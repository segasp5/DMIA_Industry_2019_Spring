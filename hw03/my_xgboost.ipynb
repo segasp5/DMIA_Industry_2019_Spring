{
 "cells": [
  {
   "cell_type": "code",
   "execution_count": 1,
   "metadata": {},
   "outputs": [],
   "source": [
    "import xgboost as xgb\n",
    "import pandas\n",
    "import numpy as np"
   ]
  },
  {
   "cell_type": "code",
   "execution_count": 2,
   "metadata": {},
   "outputs": [],
   "source": [
    "df = pandas.read_csv('HR.csv')"
   ]
  },
  {
   "cell_type": "code",
   "execution_count": 3,
   "metadata": {},
   "outputs": [
    {
     "data": {
      "text/html": [
       "<div>\n",
       "<style scoped>\n",
       "    .dataframe tbody tr th:only-of-type {\n",
       "        vertical-align: middle;\n",
       "    }\n",
       "\n",
       "    .dataframe tbody tr th {\n",
       "        vertical-align: top;\n",
       "    }\n",
       "\n",
       "    .dataframe thead th {\n",
       "        text-align: right;\n",
       "    }\n",
       "</style>\n",
       "<table border=\"1\" class=\"dataframe\">\n",
       "  <thead>\n",
       "    <tr style=\"text-align: right;\">\n",
       "      <th></th>\n",
       "      <th>last_evaluation</th>\n",
       "      <th>number_project</th>\n",
       "      <th>average_montly_hours</th>\n",
       "      <th>time_spend_company</th>\n",
       "      <th>Work_accident</th>\n",
       "      <th>left</th>\n",
       "      <th>promotion_last_5years</th>\n",
       "    </tr>\n",
       "  </thead>\n",
       "  <tbody>\n",
       "    <tr>\n",
       "      <th>0</th>\n",
       "      <td>0.53</td>\n",
       "      <td>2</td>\n",
       "      <td>157</td>\n",
       "      <td>3</td>\n",
       "      <td>0</td>\n",
       "      <td>1</td>\n",
       "      <td>0</td>\n",
       "    </tr>\n",
       "    <tr>\n",
       "      <th>1</th>\n",
       "      <td>0.86</td>\n",
       "      <td>5</td>\n",
       "      <td>262</td>\n",
       "      <td>6</td>\n",
       "      <td>0</td>\n",
       "      <td>0</td>\n",
       "      <td>0</td>\n",
       "    </tr>\n",
       "    <tr>\n",
       "      <th>2</th>\n",
       "      <td>0.88</td>\n",
       "      <td>7</td>\n",
       "      <td>272</td>\n",
       "      <td>4</td>\n",
       "      <td>0</td>\n",
       "      <td>1</td>\n",
       "      <td>0</td>\n",
       "    </tr>\n",
       "    <tr>\n",
       "      <th>3</th>\n",
       "      <td>0.87</td>\n",
       "      <td>5</td>\n",
       "      <td>223</td>\n",
       "      <td>5</td>\n",
       "      <td>0</td>\n",
       "      <td>1</td>\n",
       "      <td>0</td>\n",
       "    </tr>\n",
       "    <tr>\n",
       "      <th>4</th>\n",
       "      <td>0.52</td>\n",
       "      <td>2</td>\n",
       "      <td>159</td>\n",
       "      <td>3</td>\n",
       "      <td>0</td>\n",
       "      <td>1</td>\n",
       "      <td>0</td>\n",
       "    </tr>\n",
       "  </tbody>\n",
       "</table>\n",
       "</div>"
      ],
      "text/plain": [
       "   last_evaluation  number_project  average_montly_hours  time_spend_company  \\\n",
       "0             0.53               2                   157                   3   \n",
       "1             0.86               5                   262                   6   \n",
       "2             0.88               7                   272                   4   \n",
       "3             0.87               5                   223                   5   \n",
       "4             0.52               2                   159                   3   \n",
       "\n",
       "   Work_accident  left  promotion_last_5years  \n",
       "0              0     1                      0  \n",
       "1              0     0                      0  \n",
       "2              0     1                      0  \n",
       "3              0     1                      0  \n",
       "4              0     1                      0  "
      ]
     },
     "execution_count": 3,
     "metadata": {},
     "output_type": "execute_result"
    }
   ],
   "source": [
    "df.head()"
   ]
  },
  {
   "cell_type": "code",
   "execution_count": 4,
   "metadata": {},
   "outputs": [],
   "source": [
    "target_colname = 'left'\n",
    "features = [c for c in df if c != target_colname]"
   ]
  },
  {
   "cell_type": "code",
   "execution_count": 5,
   "metadata": {},
   "outputs": [],
   "source": [
    "target = np.array(df[target_colname])\n",
    "data = np.array(df[features])"
   ]
  },
  {
   "cell_type": "code",
   "execution_count": 49,
   "metadata": {},
   "outputs": [],
   "source": [
    "params={\n",
    "    \"max_depth\": [3],\n",
    "    \"learning_rate\": [0.05],\n",
    "    \"n_estimators\": [300],     \n",
    "#     \"reg_alpha\": np.arange(0., 0.5, 0.1),\n",
    "    \"colsample_bytree\": np.arange(0.1, 1.1, 0.1),\n",
    "    \"colsample_bylevel\": np.arange(0.1, 1.1, 0.1),\n",
    "    \"colsample_bynode\": np.arange(0.1, 1.1, 0.1),\n",
    "    \"random_state\": [42]\n",
    "}"
   ]
  },
  {
   "cell_type": "code",
   "execution_count": 53,
   "metadata": {},
   "outputs": [],
   "source": [
    "from sklearn.model_selection import RandomizedSearchCV\n",
    "estimator = xgb.XGBClassifier()\n",
    "\n",
    "random_search = RandomizedSearchCV(estimator, param_distributions=params, n_iter=10, scoring='accuracy', cv=3)"
   ]
  },
  {
   "cell_type": "code",
   "execution_count": 1,
   "metadata": {},
   "outputs": [
    {
     "ename": "NameError",
     "evalue": "name 'random_search' is not defined",
     "output_type": "error",
     "traceback": [
      "\u001b[1;31m---------------------------------------------------------------------------\u001b[0m",
      "\u001b[1;31mNameError\u001b[0m                                 Traceback (most recent call last)",
      "\u001b[1;32m<timed exec>\u001b[0m in \u001b[0;36m<module>\u001b[1;34m\u001b[0m\n",
      "\u001b[1;31mNameError\u001b[0m: name 'random_search' is not defined"
     ]
    }
   ],
   "source": [
    "%%time\n",
    "res = random_search.fit(X=data, y=target)"
   ]
  },
  {
   "cell_type": "code",
   "execution_count": 55,
   "metadata": {},
   "outputs": [
    {
     "name": "stdout",
     "output_type": "stream",
     "text": [
      "0.7775851723448229\n",
      "{'random_state': 42, 'n_estimators': 300, 'max_depth': 3, 'learning_rate': 0.05, 'colsample_bytree': 0.7000000000000001, 'colsample_bynode': 0.1, 'colsample_bylevel': 0.7000000000000001}\n",
      "{'mean_fit_time': array([4.12545832, 3.98559674, 3.98305194, 3.89107394, 3.81040684]), 'std_fit_time': array([0.08438013, 0.01295268, 0.06669111, 0.00656721, 0.00910531]), 'mean_score_time': array([0.07353441, 0.07713509, 0.07280016, 0.07280008, 0.06240018]), 'std_score_time': array([7.94448534e-03, 3.08120053e-03, 7.35411930e-03, 7.35389452e-03,\n",
      "       2.24783192e-07]), 'param_random_state': masked_array(data=[42, 42, 42, 42, 42],\n",
      "             mask=[False, False, False, False, False],\n",
      "       fill_value='?',\n",
      "            dtype=object), 'param_n_estimators': masked_array(data=[300, 300, 300, 300, 300],\n",
      "             mask=[False, False, False, False, False],\n",
      "       fill_value='?',\n",
      "            dtype=object), 'param_max_depth': masked_array(data=[3, 3, 3, 3, 3],\n",
      "             mask=[False, False, False, False, False],\n",
      "       fill_value='?',\n",
      "            dtype=object), 'param_learning_rate': masked_array(data=[0.05, 0.05, 0.05, 0.05, 0.05],\n",
      "             mask=[False, False, False, False, False],\n",
      "       fill_value='?',\n",
      "            dtype=object), 'param_colsample_bytree': masked_array(data=[0.1, 0.7000000000000001, 0.6, 0.9, 0.2],\n",
      "             mask=[False, False, False, False, False],\n",
      "       fill_value='?',\n",
      "            dtype=object), 'param_colsample_bynode': masked_array(data=[0.6, 0.1, 0.30000000000000004, 0.6,\n",
      "                   0.30000000000000004],\n",
      "             mask=[False, False, False, False, False],\n",
      "       fill_value='?',\n",
      "            dtype=object), 'param_colsample_bylevel': masked_array(data=[0.1, 0.7000000000000001, 0.8, 0.7000000000000001, 0.5],\n",
      "             mask=[False, False, False, False, False],\n",
      "       fill_value='?',\n",
      "            dtype=object), 'params': [{'random_state': 42, 'n_estimators': 300, 'max_depth': 3, 'learning_rate': 0.05, 'colsample_bytree': 0.1, 'colsample_bynode': 0.6, 'colsample_bylevel': 0.1}, {'random_state': 42, 'n_estimators': 300, 'max_depth': 3, 'learning_rate': 0.05, 'colsample_bytree': 0.7000000000000001, 'colsample_bynode': 0.1, 'colsample_bylevel': 0.7000000000000001}, {'random_state': 42, 'n_estimators': 300, 'max_depth': 3, 'learning_rate': 0.05, 'colsample_bytree': 0.6, 'colsample_bynode': 0.30000000000000004, 'colsample_bylevel': 0.8}, {'random_state': 42, 'n_estimators': 300, 'max_depth': 3, 'learning_rate': 0.05, 'colsample_bytree': 0.9, 'colsample_bynode': 0.6, 'colsample_bylevel': 0.7000000000000001}, {'random_state': 42, 'n_estimators': 300, 'max_depth': 3, 'learning_rate': 0.05, 'colsample_bytree': 0.2, 'colsample_bynode': 0.30000000000000004, 'colsample_bylevel': 0.5}], 'split0_test_score': array([0.8136, 0.8634, 0.8626, 0.8612, 0.8136]), 'split1_test_score': array([0.6416, 0.6496, 0.647 , 0.6486, 0.6416]), 'split2_test_score': array([0.79635927, 0.81976395, 0.81716343, 0.81876375, 0.79635927]), 'mean_test_score': array([0.7505167 , 0.77758517, 0.77558504, 0.77618508, 0.7505167 ]), 'std_test_score': array([0.07734052, 0.09224024, 0.0928006 , 0.09186903, 0.07734052]), 'rank_test_score': array([4, 1, 3, 2, 4]), 'split0_train_score': array([0.72177218, 0.73707371, 0.73707371, 0.73807381, 0.72177218]), 'split1_train_score': array([0.82948295, 0.85068507, 0.849985  , 0.8509851 , 0.82948295]), 'split2_train_score': array([0.7381, 0.761 , 0.7622, 0.76  , 0.7381]), 'mean_train_score': array([0.76311838, 0.78291959, 0.78308624, 0.78301964, 0.76311838]), 'std_train_score': array([0.0473979 , 0.04890287, 0.04840397, 0.04888536, 0.0473979 ])}\n"
     ]
    }
   ],
   "source": [
    "print(res.best_score_)\n",
    "print(res.best_params_)\n",
    "print(res.cv_results_)"
   ]
  },
  {
   "cell_type": "code",
   "execution_count": null,
   "metadata": {},
   "outputs": [],
   "source": []
  }
 ],
 "metadata": {
  "kernelspec": {
   "display_name": "Python 3",
   "language": "python",
   "name": "python3"
  },
  "language_info": {
   "codemirror_mode": {
    "name": "ipython",
    "version": 3
   },
   "file_extension": ".py",
   "mimetype": "text/x-python",
   "name": "python",
   "nbconvert_exporter": "python",
   "pygments_lexer": "ipython3",
   "version": "3.7.1"
  }
 },
 "nbformat": 4,
 "nbformat_minor": 2
}
